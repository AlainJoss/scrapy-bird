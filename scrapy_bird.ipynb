{
 "cells": [
  {
   "cell_type": "markdown",
   "source": [
    "# Scraping Birds\n",
    "Performed actions:\n",
    "1. Create driver\n",
    "2. Go to base website\n",
    "3. For each bird:\n",
    "    * Go to dedicated website\n",
    "    * Scrape information\n",
    "    * Go back to base website\n",
    "4. Quit driver\n",
    "5. Export csv"
   ],
   "metadata": {
    "collapsed": false
   }
  },
  {
   "cell_type": "code",
   "execution_count": 1,
   "outputs": [],
   "source": [
    "### setup\n",
    "\n",
    "from selenium import webdriver\n",
    "from bs4 import BeautifulSoup\n",
    "from selenium.webdriver.common.by import By\n",
    "from selenium.webdriver.common.keys import Keys\n",
    "from selenium.webdriver.chrome.service import Service\n",
    "\n",
    "import pandas as pd\n",
    "import time\n",
    "import random\n",
    "\n",
    "birds = pd.read_csv('birds.csv')[\"name\"].tolist()\n",
    "\n",
    "latin_names = list()\n",
    "foods = list()\n",
    "habitats = list()\n",
    "nest_sites = list()"
   ],
   "metadata": {
    "collapsed": false
   }
  },
  {
   "cell_type": "code",
   "execution_count": 2,
   "outputs": [
    {
     "ename": "IndexError",
     "evalue": "list index out of range",
     "output_type": "error",
     "traceback": [
      "\u001B[0;31m---------------------------------------------------------------------------\u001B[0m",
      "\u001B[0;31mIndexError\u001B[0m                                Traceback (most recent call last)",
      "Input \u001B[0;32mIn [2]\u001B[0m, in \u001B[0;36m<cell line: 12>\u001B[0;34m()\u001B[0m\n\u001B[1;32m     10\u001B[0m driver\u001B[38;5;241m.\u001B[39mget(base_URL)\n\u001B[1;32m     12\u001B[0m \u001B[38;5;28;01mfor\u001B[39;00m bird \u001B[38;5;129;01min\u001B[39;00m birds:\n\u001B[1;32m     13\u001B[0m \n\u001B[1;32m     14\u001B[0m       \u001B[38;5;66;03m# download content\u001B[39;00m\n\u001B[0;32m---> 15\u001B[0m       search \u001B[38;5;241m=\u001B[39m \u001B[43mdriver\u001B[49m\u001B[38;5;241;43m.\u001B[39;49m\u001B[43mfind_elements\u001B[49m\u001B[43m(\u001B[49m\u001B[43mBy\u001B[49m\u001B[38;5;241;43m.\u001B[39;49m\u001B[43mTAG_NAME\u001B[49m\u001B[43m,\u001B[49m\u001B[43m \u001B[49m\u001B[38;5;124;43m\"\u001B[39;49m\u001B[38;5;124;43minput\u001B[39;49m\u001B[38;5;124;43m\"\u001B[39;49m\u001B[43m)\u001B[49m\u001B[43m[\u001B[49m\u001B[38;5;241;43m11\u001B[39;49m\u001B[43m]\u001B[49m\n\u001B[1;32m     16\u001B[0m       search\u001B[38;5;241m.\u001B[39msend_keys(bird)\n\u001B[1;32m     17\u001B[0m       time\u001B[38;5;241m.\u001B[39msleep(random\u001B[38;5;241m.\u001B[39muniform(\u001B[38;5;241m0.1\u001B[39m, \u001B[38;5;241m0.2\u001B[39m))\n",
      "\u001B[0;31mIndexError\u001B[0m: list index out of range"
     ]
    }
   ],
   "source": [
    "### scrape\n",
    "\n",
    "# create driver\n",
    "service = Service(\"/Users/Alain/chromedriver_mac64/chromedriver\")\n",
    "driver = webdriver.Chrome(service=service)\n",
    "driver.implicitly_wait(10)\n",
    "\n",
    "# go to base website\n",
    "base_URL = \"https://www.vogelwarte.ch/en/birds/birds-of-switzerland/\"\n",
    "driver.get(base_URL)\n",
    "\n",
    "for bird in birds:\n",
    "\n",
    "      # download content\n",
    "      search = driver.find_elements(By.TAG_NAME, \"input\")[11]\n",
    "      search.send_keys(bird)\n",
    "      time.sleep(random.uniform(0.1, 0.2))\n",
    "\n",
    "      search.send_keys(Keys.ENTER)\n",
    "      time.sleep(random.uniform(0.1, 0.2))\n",
    "\n",
    "      try:\n",
    "            # find features\n",
    "            web_page = driver.page_source\n",
    "            soup = BeautifulSoup(web_page, \"lxml\")\n",
    "\n",
    "            latin_name = soup.find_all(\"span\")[13].text\n",
    "            characteristics = soup.find_all(\"div\", class_=\"vds-col\")\n",
    "            food = characteristics[9].text\n",
    "            habitat = characteristics[11].text\n",
    "            nest_site = characteristics[15].text\n",
    "\n",
    "            driver.back()\n",
    "            time.sleep(random.uniform(0.1, 0.2))\n",
    "      except:\n",
    "            latin_name = \"\"\n",
    "            characteristics = \"\"\n",
    "            food = \"\"\n",
    "            habitat = \"\"\n",
    "            nest_site = \"\"\n",
    "\n",
    "            driver.get(base_URL)\n",
    "            time.sleep(random.uniform(0.1, 0.2))\n",
    "\n",
    "      # store features\n",
    "      latin_names.append(latin_name)\n",
    "      foods.append(food)\n",
    "      habitats.append(habitat)\n",
    "      nest_sites.append(nest_site)\n",
    "\n",
    "driver.quit()"
   ],
   "metadata": {
    "collapsed": false
   }
  },
  {
   "cell_type": "code",
   "execution_count": null,
   "outputs": [],
   "source": [
    "### raw scraped dataset\n",
    "\n",
    "df = pd.DataFrame({'English Name' : birds,'Latin Name': latin_names, 'Food': foods, 'Habitat': habitats, 'Nest Site': nest_sites})\n",
    "df.to_csv('birds_data.csv', index=False)"
   ],
   "metadata": {
    "collapsed": false,
    "pycharm": {
     "is_executing": true
    }
   }
  }
 ],
 "metadata": {
  "kernelspec": {
   "display_name": "Python 3",
   "language": "python",
   "name": "python3"
  },
  "language_info": {
   "codemirror_mode": {
    "name": "ipython",
    "version": 2
   },
   "file_extension": ".py",
   "mimetype": "text/x-python",
   "name": "python",
   "nbconvert_exporter": "python",
   "pygments_lexer": "ipython2",
   "version": "2.7.6"
  }
 },
 "nbformat": 4,
 "nbformat_minor": 0
}
