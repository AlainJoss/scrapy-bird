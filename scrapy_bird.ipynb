{
 "cells": [
  {
   "cell_type": "markdown",
   "source": [
    "# Scraping Birds\n",
    "1. Create driver\n",
    "2. Go to [base website](https://www.vogelwarte.ch/en/birds/birds-of-switzerland/)\n",
    "3. For each bird:\n",
    "    * Go to dedicated website\n",
    "    * Scrape information\n",
    "    * Go back to base website\n",
    "4. Quit driver\n",
    "5. Export csv"
   ],
   "metadata": {
    "collapsed": false
   }
  },
  {
   "cell_type": "code",
   "execution_count": 13,
   "outputs": [],
   "source": [
    "### set up tools\n",
    "\n",
    "from selenium import webdriver\n",
    "from selenium.webdriver.common.by import By\n",
    "from selenium.webdriver.common.keys import Keys\n",
    "from selenium.webdriver.support.wait import WebDriverWait\n",
    "from selenium.webdriver.chrome.service import Service\n",
    "from selenium.webdriver.chrome.options import Options\n",
    "from selenium.webdriver.support import expected_conditions as EC\n",
    "from selenium.common import TimeoutException\n",
    "from selenium.common import NoSuchElementException\n",
    "from bs4 import BeautifulSoup\n",
    "import pandas as pd\n",
    "import time"
   ],
   "metadata": {
    "collapsed": false
   }
  },
  {
   "cell_type": "code",
   "execution_count": 14,
   "outputs": [],
   "source": [
    "### clock for measuring time\n",
    "\n",
    "class Clock:\n",
    "      def __init__(self, birds_list):\n",
    "            self.iter_times = []\n",
    "            self.list_length = len(birds_list)\n",
    "            self.MINUTE_CONVERSION = 1/60\n",
    "\n",
    "      def estimated_time_left(self, start, end):\n",
    "            iter_time = end - start\n",
    "            self.iter_times.append(iter_time)\n",
    "            etl = (sum(self.iter_times) / len(self.iter_times)) * (self.list_length - (self.iter_times.index(iter_time) + 1)) * self.MINUTE_CONVERSION\n",
    "            return etl"
   ],
   "metadata": {
    "collapsed": false
   }
  },
  {
   "cell_type": "code",
   "execution_count": 15,
   "outputs": [],
   "source": [
    "### set up data containers\n",
    "\n",
    "birds = pd.read_csv('birds.csv')[\"name\"].tolist()\n",
    "\n",
    "latin_names = []\n",
    "foods = []\n",
    "habitats = []\n",
    "nest_sites = []\n",
    "presences = []\n",
    "\n",
    "clock = Clock(birds_list=birds)"
   ],
   "metadata": {
    "collapsed": false
   }
  },
  {
   "cell_type": "code",
   "execution_count": 16,
   "outputs": [],
   "source": [
    "### set up web driver\n",
    "\n",
    "service = Service(\"/Users/Alain/chromedriver_mac64/chromedriver\")\n",
    "options = Options()\n",
    "options.add_argument(\"--headless\")\n",
    "\n",
    "driver = webdriver.Chrome(service=service, options=options)\n",
    "wait = WebDriverWait(driver, 3)"
   ],
   "metadata": {
    "collapsed": false
   }
  },
  {
   "cell_type": "code",
   "execution_count": null,
   "outputs": [],
   "source": [
    "### scrape data\n",
    "\n",
    "# go to base website\n",
    "base_URL = \"https://www.vogelwarte.ch/en/birds/birds-of-switzerland/\"\n",
    "\n",
    "for bird in birds:\n",
    "\n",
    "      start = time.time()\n",
    "\n",
    "      driver.get(base_URL)\n",
    "      wait.until(\n",
    "            EC.presence_of_element_located((By.CLASS_NAME, 'searchField'))\n",
    "      )\n",
    "\n",
    "      try:\n",
    "            # go to specific website\n",
    "            search = driver.find_elements(By.TAG_NAME, \"input\")[11]\n",
    "            search.send_keys(bird)\n",
    "\n",
    "            search.send_keys(Keys.ENTER)\n",
    "            wait.until(\n",
    "                  EC.presence_of_element_located((By.CLASS_NAME, 'speciesHeader'))\n",
    "            )\n",
    "\n",
    "            # find features\n",
    "            web_page = driver.page_source\n",
    "            soup = BeautifulSoup(web_page, \"lxml\")\n",
    "\n",
    "            latin_name = soup.find(\"h3\", text=bird).next_sibling.text\n",
    "            characteristics = soup.find_all(\"div\", class_=\"vds-col\")\n",
    "            food = characteristics[9].text\n",
    "            habitat = characteristics[11].text\n",
    "            nest_site = characteristics[15].text\n",
    "            presence = soup.find(\"h2\", text=\"Status (in CH)\").next_sibling\n",
    "\n",
    "      except (TimeoutException, NoSuchElementException):\n",
    "            latin_name = \"\"\n",
    "            characteristics = \"\"\n",
    "            food = \"\"\n",
    "            habitat = \"\"\n",
    "            nest_site = \"\"\n",
    "            presence = \"\"\n",
    "\n",
    "      # store features\n",
    "      latin_names.append(latin_name)\n",
    "      foods.append(food)\n",
    "      habitats.append(habitat)\n",
    "      nest_sites.append(nest_site)\n",
    "      presences.append(presence)\n",
    "\n",
    "      # display status\n",
    "      estimated_time_left = clock.estimated_time_left(start, time.time())\n",
    "      print(str(birds.index(bird)+1) + \"/\" + str(len(birds)), \"-\",\n",
    "            \"estimated time left: \" + str(round(estimated_time_left, 2)), \"min -\", bird)\n",
    "\n",
    "driver.quit()"
   ],
   "metadata": {
    "collapsed": false,
    "pycharm": {
     "is_executing": true
    }
   }
  },
  {
   "cell_type": "code",
   "execution_count": null,
   "outputs": [],
   "source": [
    "### store scraped data\n",
    "\n",
    "df = pd.DataFrame({'English Name' : birds,'Latin Name': latin_names, 'Food': foods, 'Habitat': habitats, 'Nest Site': nest_sites, 'Status': presences})\n",
    "\n",
    "df"
   ],
   "metadata": {
    "collapsed": false,
    "pycharm": {
     "is_executing": true
    }
   }
  },
  {
   "cell_type": "code",
   "execution_count": null,
   "outputs": [],
   "source": [
    "### clean data set\n",
    "\n",
    "df[\"Food\"] = df[\"Food\"].str.split(\",\")\n",
    "df = df.explode(\"Food\")\n",
    "\n",
    "df"
   ],
   "metadata": {
    "collapsed": false,
    "pycharm": {
     "is_executing": true
    }
   }
  },
  {
   "cell_type": "code",
   "execution_count": 11,
   "outputs": [],
   "source": [
    "# export data set\n",
    "\n",
    "df.to_csv('birds_scraped_data.csv', index=False)"
   ],
   "metadata": {
    "collapsed": false
   }
  }
 ],
 "metadata": {
  "kernelspec": {
   "display_name": "Python 3",
   "language": "python",
   "name": "python3"
  },
  "language_info": {
   "codemirror_mode": {
    "name": "ipython",
    "version": 2
   },
   "file_extension": ".py",
   "mimetype": "text/x-python",
   "name": "python",
   "nbconvert_exporter": "python",
   "pygments_lexer": "ipython2",
   "version": "2.7.6"
  }
 },
 "nbformat": 4,
 "nbformat_minor": 0
}
